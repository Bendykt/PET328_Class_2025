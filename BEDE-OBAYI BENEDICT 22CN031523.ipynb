{
 "cells": [
  {
   "cell_type": "code",
   "execution_count": 1,
   "id": "f2c32a90-8ed6-4489-8d80-c8090bbbcf13",
   "metadata": {},
   "outputs": [
    {
     "name": "stdin",
     "output_type": "stream",
     "text": [
      "Enter number of gridblocks in x-direction:  2\n",
      "Enter number of gridblocks in y-direction:  2\n",
      "Enter number of layers in z-direction:  2\n",
      "Enter permeability cut-off value:  3\n"
     ]
    },
    {
     "name": "stdout",
     "output_type": "stream",
     "text": [
      "\n",
      "Layer 1:\n"
     ]
    },
    {
     "name": "stdin",
     "output_type": "stream",
     "text": [
      "Enter permeability at (x=1, y=1, z=1):  1\n",
      "Enter permeability at (x=2, y=1, z=1):  3\n",
      "Enter permeability at (x=1, y=2, z=1):  2\n",
      "Enter permeability at (x=2, y=2, z=1):  3\n"
     ]
    },
    {
     "name": "stdout",
     "output_type": "stream",
     "text": [
      "Active gridblocks in Layer 1: 2\n",
      "\n",
      "Layer 2:\n"
     ]
    },
    {
     "name": "stdin",
     "output_type": "stream",
     "text": [
      "Enter permeability at (x=1, y=1, z=2):  1\n",
      "Enter permeability at (x=2, y=1, z=2):  3\n",
      "Enter permeability at (x=1, y=2, z=2):  2\n",
      "Enter permeability at (x=2, y=2, z=2):  4\n"
     ]
    },
    {
     "name": "stdout",
     "output_type": "stream",
     "text": [
      "Active gridblocks in Layer 2: 2\n",
      "\n",
      "Total active gridblocks: 4\n",
      "Total gridblocks: 8\n",
      "Percentage of active gridblocks: 50.00%\n"
     ]
    }
   ],
   "source": [
    "# PET328 Assignment 3: Reservoir Gridblock Classification\n",
    "\n",
    "# 1. Request reservoir dimensions and discretization parameters\n",
    "nx = int(input(\"Enter number of gridblocks in x-direction: \"))\n",
    "ny = int(input(\"Enter number of gridblocks in y-direction: \"))\n",
    "nz = int(input(\"Enter number of layers in z-direction: \"))\n",
    "\n",
    "# 2. Request for the cut-off permeability value\n",
    "cutoff = float(input(\"Enter permeability cut-off value: \"))\n",
    "\n",
    "# 3. Initialize counters\n",
    "total_active = 0\n",
    "total_blocks = nx * ny * nz\n",
    "\n",
    "# 4. Loop through gridblocks\n",
    "for z in range(nz):\n",
    "    active_in_layer = 0\n",
    "    print(f\"\\nLayer {z+1}:\")\n",
    "    for y in range(ny):\n",
    "        for x in range(nx):\n",
    "            k = float(input(f\"Enter permeability at (x={x+1}, y={y+1}, z={z+1}): \"))\n",
    "            if k >= cutoff:\n",
    "                total_active += 1\n",
    "                active_in_layer += 1\n",
    "    print(f\"Active gridblocks in Layer {z+1}: {active_in_layer}\")\n",
    "\n",
    "# 5. Print overall percentage of active blocks\n",
    "active_percent = (total_active / total_blocks) * 100\n",
    "print(f\"\\nTotal active gridblocks: {total_active}\")\n",
    "print(f\"Total gridblocks: {total_blocks}\")\n",
    "print(f\"Percentage of active gridblocks: {active_percent:.2f}%\")\n"
   ]
  },
  {
   "cell_type": "code",
   "execution_count": null,
   "id": "c7df8b3b-b5e7-48c4-bf2b-718c8247933b",
   "metadata": {},
   "outputs": [],
   "source": []
  }
 ],
 "metadata": {
  "kernelspec": {
   "display_name": "Python 3 (ipykernel)",
   "language": "python",
   "name": "python3"
  },
  "language_info": {
   "codemirror_mode": {
    "name": "ipython",
    "version": 3
   },
   "file_extension": ".py",
   "mimetype": "text/x-python",
   "name": "python",
   "nbconvert_exporter": "python",
   "pygments_lexer": "ipython3",
   "version": "3.12.7"
  }
 },
 "nbformat": 4,
 "nbformat_minor": 5
}
